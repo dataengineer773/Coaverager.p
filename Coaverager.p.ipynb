{
 "cells": [
  {
   "cell_type": "code",
   "execution_count": 1,
   "id": "0415c791-d677-4f3d-adef-b9fcc24e6478",
   "metadata": {},
   "outputs": [],
   "source": [
    "from collections.abc import Generator"
   ]
  },
  {
   "cell_type": "code",
   "execution_count": 2,
   "id": "6fe54bd7-f3f7-4a9a-aae3-94c6f783b2f2",
   "metadata": {},
   "outputs": [],
   "source": [
    "def averager() -> Generator[float, float, None]:\n",
    "    total = 0.0\n",
    "    count = 0\n",
    "    average=0.0\n",
    "    while True:\n",
    "        term = yield average\n",
    "        total += term\n",
    "        count += 1\n",
    "        average = total/count"
   ]
  },
  {
   "cell_type": "code",
   "execution_count": 3,
   "id": "fba62bec-2a81-4b74-8173-ba883c77a330",
   "metadata": {},
   "outputs": [],
   "source": [
    "coro_avg = averager()"
   ]
  },
  {
   "cell_type": "code",
   "execution_count": 4,
   "id": "89f5b458-01fa-48ca-b73b-15f3b2fd6e3a",
   "metadata": {},
   "outputs": [
    {
     "data": {
      "text/plain": [
       "0.0"
      ]
     },
     "execution_count": 4,
     "metadata": {},
     "output_type": "execute_result"
    }
   ],
   "source": [
    "next(coro_avg)"
   ]
  },
  {
   "cell_type": "code",
   "execution_count": 5,
   "id": "1b9f0adb-c74c-447d-a8dd-a2bed5388591",
   "metadata": {},
   "outputs": [
    {
     "data": {
      "text/plain": [
       "10.0"
      ]
     },
     "execution_count": 5,
     "metadata": {},
     "output_type": "execute_result"
    }
   ],
   "source": [
    "coro_avg.send(10)"
   ]
  },
  {
   "cell_type": "code",
   "execution_count": 6,
   "id": "9f273e4b-1e65-46a7-b4b6-aa753e82b181",
   "metadata": {},
   "outputs": [
    {
     "data": {
      "text/plain": [
       "20.0"
      ]
     },
     "execution_count": 6,
     "metadata": {},
     "output_type": "execute_result"
    }
   ],
   "source": [
    "coro_avg.send(30)"
   ]
  },
  {
   "cell_type": "code",
   "execution_count": 7,
   "id": "ac93968a-2fef-4591-9e2a-d6ca0bf0202a",
   "metadata": {},
   "outputs": [
    {
     "data": {
      "text/plain": [
       "15.0"
      ]
     },
     "execution_count": 7,
     "metadata": {},
     "output_type": "execute_result"
    }
   ],
   "source": [
    "coro_avg.send(5)"
   ]
  },
  {
   "cell_type": "code",
   "execution_count": 8,
   "id": "d55fb531-404c-4014-8e2a-0563d7520780",
   "metadata": {},
   "outputs": [
    {
     "data": {
      "text/plain": [
       "16.25"
      ]
     },
     "execution_count": 8,
     "metadata": {},
     "output_type": "execute_result"
    }
   ],
   "source": [
    "coro_avg.send(20)"
   ]
  },
  {
   "cell_type": "code",
   "execution_count": 9,
   "id": "7b82c3f2-2b38-48ac-b9bd-ce45bbb50716",
   "metadata": {},
   "outputs": [],
   "source": [
    "coro_avg.close()"
   ]
  },
  {
   "cell_type": "code",
   "execution_count": 10,
   "id": "d88f136c-c7fa-48b0-b630-d5f5a6e73331",
   "metadata": {},
   "outputs": [],
   "source": [
    "coro_avg.close()"
   ]
  }
 ],
 "metadata": {
  "kernelspec": {
   "display_name": "Python 3 (ipykernel)",
   "language": "python",
   "name": "python3"
  },
  "language_info": {
   "codemirror_mode": {
    "name": "ipython",
    "version": 3
   },
   "file_extension": ".py",
   "mimetype": "text/x-python",
   "name": "python",
   "nbconvert_exporter": "python",
   "pygments_lexer": "ipython3",
   "version": "3.12.3"
  }
 },
 "nbformat": 4,
 "nbformat_minor": 5
}
